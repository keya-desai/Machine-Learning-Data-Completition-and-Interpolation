{
 "cells": [
  {
   "cell_type": "code",
   "execution_count": 1,
   "metadata": {},
   "outputs": [],
   "source": [
    "import numpy as np\n",
    "import matplotlib.pyplot as plt\n",
    "import pandas as pd"
   ]
  },
  {
   "cell_type": "code",
   "execution_count": 19,
   "metadata": {},
   "outputs": [],
   "source": [
    "class NeuralNetwork:\n",
    "    def __init__(self, x, y, valX, valY, featureVal,  num_hidden, epochs, learning_rate, num_nodes_layers, activation_function, batch_size):\n",
    "        self.x = x\n",
    "        self.y = y\n",
    "        \n",
    "        self.valX = valX\n",
    "        self.valY = valY\n",
    "        self.featureVal = featureVal\n",
    "\n",
    "        self.num_data = np.shape(x)[1]  # no. of data points    # no. of rows\n",
    "        self.k = np.shape(x)[0]  # no. of features   # no. of cols\n",
    "        self.n_out = np.shape(y)[0]\n",
    "\n",
    "        self.batch_size = batch_size\n",
    "        self.activation_function = activation_function\n",
    "        self.learning_rate = learning_rate\n",
    "        self.epochs = epochs\n",
    "        self.num_hidden = num_hidden\n",
    "        self.num_layers = num_hidden + 1  # +1 for output layer\n",
    "\n",
    "        self.num_nodes_layers = num_nodes_layers\n",
    "\n",
    "        # inserting input and output nodes to the list\n",
    "        self.num_nodes_layers.insert(0, self.k)\n",
    "        self.num_nodes_layers.append(self.n_out)\n",
    "\n",
    "        self.leaky_slope = 0.01\n",
    "        self.weights = []\n",
    "        \n",
    "        # parameters: weight and bias\n",
    "        # weight[l] : (num_layers * num_layers-1 ) * num_layers : (no. of nodes in layer l * no. of nodes in layer (l-1)) * no. of layers\n",
    "    def initialize_parameters_random(self):\n",
    "\n",
    "        for l in range(1, self.num_layers + 1):\n",
    "            self.weights.append(\n",
    "                np.random.rand(self.num_nodes_layers[l], self.num_nodes_layers[l - 1]))\n",
    "\n",
    "    # Use this when activation function is tanh or sigmoid\n",
    "    def initialize_parameters_xavier(self):\n",
    "\n",
    "        for l in range(1, self.num_layers + 1):\n",
    "            self.weights.append(np.random.randn(self.num_nodes_layers[l], self.num_nodes_layers[l - 1]) * np.sqrt(\n",
    "                1 / self.num_nodes_layers[l - 1]))\n",
    "\n",
    "    # Use this when activation function is ReLU or Leaky ReLu\n",
    "    def initialize_parameters_he(self):\n",
    "        for l in range(1, self.num_layers + 1):\n",
    "            self.weights.append(np.random.randn(self.num_nodes_layers[l], self.num_nodes_layers[l - 1]) * np.sqrt(\n",
    "                2 / self.num_nodes_layers[l - 1]))\n",
    "\n",
    "    # Activation Functions\n",
    "    def activation(self, x):\n",
    "        if self.activation_function == \"linear\":\n",
    "            return x\n",
    "        if self.activation_function == \"sigmoid\":\n",
    "            return 1.0 / (1.0 + np.exp(-x))\n",
    "        if self.activation_function == \"tanh\":\n",
    "            return np.tanh(x)\n",
    "        if self.activation_function == \"relu\":\n",
    "            a = np.zeros_like(x)\n",
    "            return np.maximum(a, x)\n",
    "        if self.activation_function == \"leaky_relu\":\n",
    "            a = self.leaky_slope * x\n",
    "            return np.maximum(a, x)\n",
    "\n",
    "    def softmax(self, x):\n",
    "        exp_x = np.exp(x)\n",
    "        return exp_x / exp_x.sum(axis=0, keepdims=True)\n",
    "\n",
    "    def gradient_activation(self, X):\n",
    "        if self.activation_function == \"linear\":\n",
    "            return np.ones_like(X)\n",
    "        elif self.activation_function == \"sigmoid\":\n",
    "            return self.activation(X) * (1 - self.activation(X))\n",
    "        elif self.activation_function == \"tanh\":\n",
    "            return (1 - np.square(X))\n",
    "        elif self.activation_function == \"relu\":\n",
    "            grad = np.zeros_like(X)\n",
    "            grad[X > 0] = 1.0\n",
    "            return grad\n",
    "        elif self.activation_function == \"leaky_relu\":\n",
    "            grad = np.ones_like(X)\n",
    "            grad[X <= 0] = self.leaky_slope\n",
    "            return grad\n",
    "\n",
    "    def forward_propogation(self, x):\n",
    "        # dim of A vector: (no. of hidden nodes * num_data) *(no. of layers)\n",
    "        A = []\n",
    "        Z = []\n",
    "        A.append(x)\n",
    "        A_prev = x\n",
    "\n",
    "        for l in range(0, self.num_layers-1):\n",
    "            z = np.matmul(self.weights[l], A_prev)\n",
    "            a = self.activation(z)\n",
    "            A_prev = a\n",
    "            A.append(a)\n",
    "            Z.append(z)\n",
    "        z = np.matmul(self.weights[-1], A_prev)\n",
    "        # ******* Can apply different activation to differnt nodes in last layer?****\n",
    "        a = self.activation(z)\n",
    "        A.append(a)\n",
    "        Z.append(z)\n",
    "        return (A, Z)\n",
    "\n",
    "    def back_propogation(self, A, Z, y):\n",
    "\n",
    "        delta_z = [None for i in range(self.num_layers)]\n",
    "        delta_weight = [None for i in range(self.num_layers)]\n",
    "\n",
    "        delta_z[-1] = (y - A[-1])\n",
    "        delta_weight[-1] = np.matmul(delta_z[-1], A[-2].T)\n",
    "\n",
    "        for l in range(self.num_layers - 2, -1, -1):\n",
    "            delta_z[l] = np.multiply(np.matmul(self.weights[l + 1].T, delta_z[l + 1]), self.gradient_activation(Z[l]) )\n",
    "            delta_weight[l] = np.matmul( delta_z[l], A[l].T )\n",
    "\n",
    "        return delta_weight\n",
    "\n",
    "\n",
    "    def update_weight(self, A, delta_weight):\n",
    "        # weight = weight + learning_rate * error * input\n",
    "        m = A[-1].shape[1]\n",
    "        for l in range(self.num_layers):\n",
    "            self.weights[l] = self.weights[l] + (self.learning_rate * delta_weight[l])/m\n",
    "\n",
    "    def predict(self, x_test, isMissing):\n",
    "        A,Z = self.forward_propogation(x_test)\n",
    "        prediction = A[-1]\n",
    "        predFinal = np.where(isMissing < 1, prediction, x_test)\n",
    "        return predFinal\n",
    "\n",
    "    def loss_function(self, y, out):\n",
    "#             return (0.5 * np.mean((y - out) ** 2))\n",
    "        return (np.mean(np.sum((y - out) ** 2, axis = 1)))\n",
    "\n",
    "    def model(self):\n",
    "        mini_batch = int((self.num_data) / (self.batch_size))\n",
    "        \n",
    "        self.initialize_parameters_random()\n",
    "        \n",
    "#         if self.activation_function == \"linear\":\n",
    "#             self.initialize_parameters_random()\n",
    "#         elif self.activation_function == \"sigmoid\" or self.activation_function == \"tanh\":\n",
    "#             self.initialize_parameters_xavier()\n",
    "#         else:\n",
    "#             self.initialize_parameters_he()\n",
    "        leastVal = 1000\n",
    "        numBadEpoch = 0\n",
    "        trainLossArr = []\n",
    "        testLossArr = []\n",
    "        \n",
    "        for e in range(self.epochs):\n",
    "            trainLossBatch = []\n",
    "            print(\"Epoch =\", e)\n",
    "            end = 0\n",
    "            for n in range(mini_batch + 1):\n",
    "                if (n != mini_batch):\n",
    "                    start = n * self.batch_size\n",
    "                    end = (n + 1) * self.batch_size\n",
    "                    x_ = self.x[:, start:end]\n",
    "                    y_ = self.y[:, start:end]\n",
    "\n",
    "                else:\n",
    "                    if ((self.num_data % self.batch_size) != 0):\n",
    "                        x_ = self.x[:, end:]\n",
    "                        y_ = self.y[:, end:]\n",
    "                    else:\n",
    "                        break\n",
    "\n",
    "                A,Z = self.forward_propogation(x_)\n",
    "                delta_weight = self.back_propogation(A, Z, y_)\n",
    "                self.update_weight(A, delta_weight)\n",
    "                trainLoss = self.loss_function(A[-1], y_)\n",
    "                trainLossBatch.append(trainLoss)\n",
    "                \n",
    "            pred = self.predict(self.valX, self.featureVal)\n",
    "            valLoss = self.loss_function(valY, pred)\n",
    "            \n",
    "            if valLoss < leastVal:\n",
    "                leastVal = valLoss\n",
    "                print(\"** Least Validation Loss\")\n",
    "                numBadEpoch = 0\n",
    "            else:\n",
    "                print(\"Bad Epoch!\")\n",
    "                numBadEpoch += 1\n",
    "            if numBadEpoch == 5:\n",
    "                break\n",
    "            \n",
    "            trainLossArr.append(sum(trainLossBatch)/len(trainLossBatch))\n",
    "            testLossArr.append(valLoss)\n",
    "            \n",
    "            print(\"Train loss = \", trainLossArr[-1])\n",
    "            print(\"Validation loss = \", valLoss)\n",
    "        return trainLossArr, testLossArr"
   ]
  },
  {
   "cell_type": "code",
   "execution_count": 20,
   "metadata": {},
   "outputs": [],
   "source": [
    "X_train = np.load('Data/Train/X.npy')\n",
    "X_prime_train = np.load('Data/Train/X_prime.npy')\n",
    "feature_info_train = np.load('Data/Train/feature_information.npy')"
   ]
  },
  {
   "cell_type": "code",
   "execution_count": 21,
   "metadata": {},
   "outputs": [],
   "source": [
    "X_test = np.load('Data/Test/X.npy')\n",
    "X_prime_test = np.load('Data/Test/X_prime.npy')\n",
    "feature_info_test = np.load('Data/Test/feature_information.npy')"
   ]
  },
  {
   "cell_type": "code",
   "execution_count": 22,
   "metadata": {},
   "outputs": [],
   "source": [
    "trainX = X_prime_train[:24130].T\n",
    "trainY = X_train[:24130].T\n",
    "trainFeatureInfo = feature_info_train[:24130]\n",
    "valX = X_prime_train[24130:].T\n",
    "valY = X_train[24130:].T\n",
    "valFeatureInfo = feature_info_train[24130:].T\n",
    "testX = X_prime_test.T\n",
    "testY = X_test.T"
   ]
  },
  {
   "cell_type": "code",
   "execution_count": 23,
   "metadata": {},
   "outputs": [
    {
     "name": "stdout",
     "output_type": "stream",
     "text": [
      "(106, 24130)\n",
      "(106, 6032)\n",
      "(106, 15060)\n"
     ]
    }
   ],
   "source": [
    "print(trainX.shape)\n",
    "print(valX.shape)\n",
    "print(testX.shape)"
   ]
  },
  {
   "cell_type": "code",
   "execution_count": 24,
   "metadata": {},
   "outputs": [
    {
     "name": "stdout",
     "output_type": "stream",
     "text": [
      "(106, 6032)\n"
     ]
    }
   ],
   "source": [
    "print(valFeatureInfo.shape)"
   ]
  },
  {
   "cell_type": "code",
   "execution_count": 25,
   "metadata": {},
   "outputs": [
    {
     "name": "stdout",
     "output_type": "stream",
     "text": [
      "Epoch = 0\n",
      "** Least Validation Loss\n",
      "Train loss =  0.021852411092070426\n",
      "Validation loss =  15.119599151380259\n",
      "Epoch = 1\n",
      "** Least Validation Loss\n",
      "Train loss =  0.015051110340001735\n",
      "Validation loss =  13.762079933121552\n",
      "Epoch = 2\n",
      "** Least Validation Loss\n",
      "Train loss =  0.014229311422585282\n",
      "Validation loss =  13.294954998404569\n",
      "Epoch = 3\n",
      "** Least Validation Loss\n",
      "Train loss =  0.013802607043321686\n",
      "Validation loss =  13.043769220506853\n",
      "Epoch = 4\n",
      "** Least Validation Loss\n",
      "Train loss =  0.013520646375192645\n",
      "Validation loss =  12.879309674188768\n",
      "Epoch = 5\n",
      "** Least Validation Loss\n",
      "Train loss =  0.013315201647863525\n",
      "Validation loss =  12.747602897373074\n",
      "Epoch = 6\n",
      "** Least Validation Loss\n",
      "Train loss =  0.013147405838771704\n",
      "Validation loss =  12.626491130295232\n",
      "Epoch = 7\n",
      "** Least Validation Loss\n",
      "Train loss =  0.013001883164254727\n",
      "Validation loss =  12.533512849791\n",
      "Epoch = 8\n",
      "** Least Validation Loss\n",
      "Train loss =  0.012873688082417739\n",
      "Validation loss =  12.472851140853665\n",
      "Epoch = 9\n",
      "** Least Validation Loss\n",
      "Train loss =  0.01276227707584738\n",
      "Validation loss =  12.28304698992857\n",
      "Epoch = 10\n",
      "Bad Epoch!\n",
      "Train loss =  0.012663312108309236\n",
      "Validation loss =  12.331743864306903\n",
      "Epoch = 11\n",
      "Bad Epoch!\n",
      "Train loss =  0.01259567322231755\n",
      "Validation loss =  12.35812122549487\n",
      "Epoch = 12\n",
      "Bad Epoch!\n",
      "Train loss =  0.012533695635557418\n",
      "Validation loss =  12.485424140045646\n",
      "Epoch = 13\n",
      "Bad Epoch!\n",
      "Train loss =  0.01247668780575585\n",
      "Validation loss =  12.625803775658637\n",
      "Epoch = 14\n",
      "Bad Epoch!\n"
     ]
    }
   ],
   "source": [
    "nn = NeuralNetwork(trainX, trainY, valX, valY, valFeatureInfo, num_hidden= 1, epochs= 100, learning_rate=0.05, num_nodes_layers=[10],\n",
    "                       activation_function=\"sigmoid\", batch_size = 1)\n",
    "trainLossArr, valLossArr = nn.model()"
   ]
  },
  {
   "cell_type": "code",
   "execution_count": 26,
   "metadata": {},
   "outputs": [
    {
     "data": {
      "image/png": "[encoded data removed]",
      "text/plain": [
       "<Figure size 576x432 with 1 Axes>"
      ]
     },
     "metadata": {
      "needs_background": "light"
     },
     "output_type": "display_data"
    }
   ],
   "source": [
    "num_epochs = [i for i in range(len(trainLossArr))]\n",
    "plt.figure(figsize=(8,6))\n",
    "plt.plot(num_epochs, trainLossArr, marker='x')\n",
    "plt.title(\"Training loss v/s Epochs\")\n",
    "plt.xlabel(\"Number of epochs\")\n",
    "plt.ylabel(\"Training Loss\")\n",
    "plt.show()"
   ]
  },
  {
   "cell_type": "code",
   "execution_count": 27,
   "metadata": {},
   "outputs": [
    {
     "data": {
      "image/png": "[encoded data removed]",
      "text/plain": [
       "<Figure size 576x432 with 1 Axes>"
      ]
     },
     "metadata": {
      "needs_background": "light"
     },
     "output_type": "display_data"
    }
   ],
   "source": [
    "plt.figure(figsize=(8,6))\n",
    "plt.plot(num_epochs, valLossArr, marker='x')\n",
    "plt.title(\"Validation loss v/s Epochs\")\n",
    "plt.xlabel(\"Number of epochs\")\n",
    "plt.ylabel(\"Validation Loss\")\n",
    "plt.show()"
   ]
  },
  {
   "cell_type": "code",
   "execution_count": 28,
   "metadata": {},
   "outputs": [],
   "source": [
    "# nn.weights[0]"
   ]
  },
  {
   "cell_type": "code",
   "execution_count": 29,
   "metadata": {},
   "outputs": [],
   "source": [
    "pred = nn.predict(testX, feature_info_test.T)"
   ]
  },
  {
   "cell_type": "code",
   "execution_count": 30,
   "metadata": {},
   "outputs": [
    {
     "name": "stdout",
     "output_type": "stream",
     "text": [
      "Testing error: 5.620019852042843\n"
     ]
    }
   ],
   "source": [
    "testErr = np.sqrt(np.mean(np.sum((pred - testY) ** 2, axis = 1)))\n",
    "# testErr = nn.loss_function(pred, testY)\n",
    "print(\"Testing error:\", testErr)"
   ]
  }
 ],
 "metadata": {
  "kernelspec": {
   "display_name": "Python 3",
   "language": "python",
   "name": "python3"
  },
  "language_info": {
   "codemirror_mode": {
    "name": "ipython",
    "version": 3
   },
   "file_extension": ".py",
   "mimetype": "text/x-python",
   "name": "python",
   "nbconvert_exporter": "python",
   "pygments_lexer": "ipython3",
   "version": "3.8.3"
  }
 },
 "nbformat": 4,
 "nbformat_minor": 4
}
