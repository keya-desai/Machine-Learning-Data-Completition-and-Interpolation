{
 "cells": [
  {
   "cell_type": "code",
   "execution_count": 1,
   "metadata": {},
   "outputs": [],
   "source": [
    "import numpy as np\n",
    "import pandas as pd"
   ]
  },
  {
   "cell_type": "code",
   "execution_count": 2,
   "metadata": {},
   "outputs": [],
   "source": [
    "X_train = np.load('Data/Train/X.npy')\n",
    "X_prime_train = np.load('Data/Train/X_prime.npy')\n",
    "feature_info_train = np.load('Data/Train/feature_information.npy')"
   ]
  },
  {
   "cell_type": "code",
   "execution_count": 3,
   "metadata": {},
   "outputs": [
    {
     "name": "stdout",
     "output_type": "stream",
     "text": [
      "(30162, 106)\n"
     ]
    },
    {
     "data": {
      "text/html": [
       "<div>\n",
       "<style scoped>\n",
       "    .dataframe tbody tr th:only-of-type {\n",
       "        vertical-align: middle;\n",
       "    }\n",
       "\n",
       "    .dataframe tbody tr th {\n",
       "        vertical-align: top;\n",
       "    }\n",
       "\n",
       "    .dataframe thead th {\n",
       "        text-align: right;\n",
       "    }\n",
       "</style>\n",
       "<table border=\"1\" class=\"dataframe\">\n",
       "  <thead>\n",
       "    <tr style=\"text-align: right;\">\n",
       "      <th></th>\n",
       "      <th>0</th>\n",
       "      <th>1</th>\n",
       "      <th>2</th>\n",
       "      <th>3</th>\n",
       "      <th>4</th>\n",
       "      <th>5</th>\n",
       "      <th>6</th>\n",
       "      <th>7</th>\n",
       "      <th>8</th>\n",
       "      <th>9</th>\n",
       "      <th>...</th>\n",
       "      <th>96</th>\n",
       "      <th>97</th>\n",
       "      <th>98</th>\n",
       "      <th>99</th>\n",
       "      <th>100</th>\n",
       "      <th>101</th>\n",
       "      <th>102</th>\n",
       "      <th>103</th>\n",
       "      <th>104</th>\n",
       "      <th>105</th>\n",
       "    </tr>\n",
       "  </thead>\n",
       "  <tbody>\n",
       "    <tr>\n",
       "      <th>0</th>\n",
       "      <td>0.301370</td>\n",
       "      <td>0.000000</td>\n",
       "      <td>0.8</td>\n",
       "      <td>0.02174</td>\n",
       "      <td>0.0</td>\n",
       "      <td>0.397959</td>\n",
       "      <td>0.0</td>\n",
       "      <td>0.0</td>\n",
       "      <td>0.0</td>\n",
       "      <td>0.0</td>\n",
       "      <td>...</td>\n",
       "      <td>0.0</td>\n",
       "      <td>0.0</td>\n",
       "      <td>0.0</td>\n",
       "      <td>0.0</td>\n",
       "      <td>0.0</td>\n",
       "      <td>1.0</td>\n",
       "      <td>0.0</td>\n",
       "      <td>0.0</td>\n",
       "      <td>1.0</td>\n",
       "      <td>0.0</td>\n",
       "    </tr>\n",
       "    <tr>\n",
       "      <th>1</th>\n",
       "      <td>0.452055</td>\n",
       "      <td>0.047277</td>\n",
       "      <td>0.8</td>\n",
       "      <td>0.00000</td>\n",
       "      <td>0.0</td>\n",
       "      <td>0.122449</td>\n",
       "      <td>0.0</td>\n",
       "      <td>0.0</td>\n",
       "      <td>0.0</td>\n",
       "      <td>0.0</td>\n",
       "      <td>...</td>\n",
       "      <td>0.0</td>\n",
       "      <td>0.0</td>\n",
       "      <td>0.0</td>\n",
       "      <td>0.0</td>\n",
       "      <td>0.0</td>\n",
       "      <td>1.0</td>\n",
       "      <td>0.0</td>\n",
       "      <td>0.0</td>\n",
       "      <td>1.0</td>\n",
       "      <td>0.0</td>\n",
       "    </tr>\n",
       "    <tr>\n",
       "      <th>2</th>\n",
       "      <td>0.287671</td>\n",
       "      <td>0.137244</td>\n",
       "      <td>0.0</td>\n",
       "      <td>0.00000</td>\n",
       "      <td>0.0</td>\n",
       "      <td>0.397959</td>\n",
       "      <td>0.0</td>\n",
       "      <td>0.0</td>\n",
       "      <td>1.0</td>\n",
       "      <td>0.0</td>\n",
       "      <td>...</td>\n",
       "      <td>0.0</td>\n",
       "      <td>0.0</td>\n",
       "      <td>0.0</td>\n",
       "      <td>0.0</td>\n",
       "      <td>0.0</td>\n",
       "      <td>1.0</td>\n",
       "      <td>0.0</td>\n",
       "      <td>0.0</td>\n",
       "      <td>1.0</td>\n",
       "      <td>0.0</td>\n",
       "    </tr>\n",
       "    <tr>\n",
       "      <th>3</th>\n",
       "      <td>0.000000</td>\n",
       "      <td>0.150212</td>\n",
       "      <td>0.4</td>\n",
       "      <td>0.00000</td>\n",
       "      <td>0.0</td>\n",
       "      <td>0.397959</td>\n",
       "      <td>0.0</td>\n",
       "      <td>0.0</td>\n",
       "      <td>1.0</td>\n",
       "      <td>0.0</td>\n",
       "      <td>...</td>\n",
       "      <td>0.0</td>\n",
       "      <td>0.0</td>\n",
       "      <td>0.0</td>\n",
       "      <td>0.0</td>\n",
       "      <td>0.0</td>\n",
       "      <td>1.0</td>\n",
       "      <td>0.0</td>\n",
       "      <td>0.0</td>\n",
       "      <td>1.0</td>\n",
       "      <td>0.0</td>\n",
       "    </tr>\n",
       "    <tr>\n",
       "      <th>4</th>\n",
       "      <td>0.000000</td>\n",
       "      <td>0.220703</td>\n",
       "      <td>0.8</td>\n",
       "      <td>0.00000</td>\n",
       "      <td>0.0</td>\n",
       "      <td>0.397959</td>\n",
       "      <td>0.0</td>\n",
       "      <td>0.0</td>\n",
       "      <td>1.0</td>\n",
       "      <td>0.0</td>\n",
       "      <td>...</td>\n",
       "      <td>0.0</td>\n",
       "      <td>0.0</td>\n",
       "      <td>0.0</td>\n",
       "      <td>0.0</td>\n",
       "      <td>0.0</td>\n",
       "      <td>0.0</td>\n",
       "      <td>0.0</td>\n",
       "      <td>0.0</td>\n",
       "      <td>0.0</td>\n",
       "      <td>0.0</td>\n",
       "    </tr>\n",
       "  </tbody>\n",
       "</table>\n",
       "<p>5 rows × 106 columns</p>\n",
       "</div>"
      ],
      "text/plain": [
       "        0         1    2        3    4         5    6    7    8    9    ...  \\\n",
       "0  0.301370  0.000000  0.8  0.02174  0.0  0.397959  0.0  0.0  0.0  0.0  ...   \n",
       "1  0.452055  0.047277  0.8  0.00000  0.0  0.122449  0.0  0.0  0.0  0.0  ...   \n",
       "2  0.287671  0.137244  0.0  0.00000  0.0  0.397959  0.0  0.0  1.0  0.0  ...   \n",
       "3  0.000000  0.150212  0.4  0.00000  0.0  0.397959  0.0  0.0  1.0  0.0  ...   \n",
       "4  0.000000  0.220703  0.8  0.00000  0.0  0.397959  0.0  0.0  1.0  0.0  ...   \n",
       "\n",
       "   96   97   98   99   100  101  102  103  104  105  \n",
       "0  0.0  0.0  0.0  0.0  0.0  1.0  0.0  0.0  1.0  0.0  \n",
       "1  0.0  0.0  0.0  0.0  0.0  1.0  0.0  0.0  1.0  0.0  \n",
       "2  0.0  0.0  0.0  0.0  0.0  1.0  0.0  0.0  1.0  0.0  \n",
       "3  0.0  0.0  0.0  0.0  0.0  1.0  0.0  0.0  1.0  0.0  \n",
       "4  0.0  0.0  0.0  0.0  0.0  0.0  0.0  0.0  0.0  0.0  \n",
       "\n",
       "[5 rows x 106 columns]"
      ]
     },
     "execution_count": 3,
     "metadata": {},
     "output_type": "execute_result"
    }
   ],
   "source": [
    "trainDataTrue = pd.DataFrame(data=X_train)\n",
    "trainData = pd.DataFrame(data=X_prime_train)\n",
    "print(trainData.shape)\n",
    "trainData.head()"
   ]
  },
  {
   "cell_type": "markdown",
   "metadata": {},
   "source": [
    "#### 1. Correlation between numerical features:"
   ]
  },
  {
   "cell_type": "code",
   "execution_count": 4,
   "metadata": {},
   "outputs": [
    {
     "data": {
      "text/html": [
       "<div>\n",
       "<style scoped>\n",
       "    .dataframe tbody tr th:only-of-type {\n",
       "        vertical-align: middle;\n",
       "    }\n",
       "\n",
       "    .dataframe tbody tr th {\n",
       "        vertical-align: top;\n",
       "    }\n",
       "\n",
       "    .dataframe thead th {\n",
       "        text-align: right;\n",
       "    }\n",
       "</style>\n",
       "<table border=\"1\" class=\"dataframe\">\n",
       "  <thead>\n",
       "    <tr style=\"text-align: right;\">\n",
       "      <th></th>\n",
       "      <th>age</th>\n",
       "      <th>fnlwgt</th>\n",
       "      <th>educationNum</th>\n",
       "      <th>capitalGain</th>\n",
       "      <th>capitalLoss</th>\n",
       "      <th>hoursPerWeek</th>\n",
       "    </tr>\n",
       "  </thead>\n",
       "  <tbody>\n",
       "    <tr>\n",
       "      <th>0</th>\n",
       "      <td>0.301370</td>\n",
       "      <td>0.000000</td>\n",
       "      <td>0.8</td>\n",
       "      <td>0.02174</td>\n",
       "      <td>0.0</td>\n",
       "      <td>0.397959</td>\n",
       "    </tr>\n",
       "    <tr>\n",
       "      <th>1</th>\n",
       "      <td>0.452055</td>\n",
       "      <td>0.047277</td>\n",
       "      <td>0.8</td>\n",
       "      <td>0.00000</td>\n",
       "      <td>0.0</td>\n",
       "      <td>0.122449</td>\n",
       "    </tr>\n",
       "    <tr>\n",
       "      <th>2</th>\n",
       "      <td>0.287671</td>\n",
       "      <td>0.137244</td>\n",
       "      <td>0.0</td>\n",
       "      <td>0.00000</td>\n",
       "      <td>0.0</td>\n",
       "      <td>0.397959</td>\n",
       "    </tr>\n",
       "    <tr>\n",
       "      <th>3</th>\n",
       "      <td>0.000000</td>\n",
       "      <td>0.150212</td>\n",
       "      <td>0.4</td>\n",
       "      <td>0.00000</td>\n",
       "      <td>0.0</td>\n",
       "      <td>0.397959</td>\n",
       "    </tr>\n",
       "    <tr>\n",
       "      <th>4</th>\n",
       "      <td>0.000000</td>\n",
       "      <td>0.220703</td>\n",
       "      <td>0.8</td>\n",
       "      <td>0.00000</td>\n",
       "      <td>0.0</td>\n",
       "      <td>0.397959</td>\n",
       "    </tr>\n",
       "  </tbody>\n",
       "</table>\n",
       "</div>"
      ],
      "text/plain": [
       "        age    fnlwgt  educationNum  capitalGain  capitalLoss  hoursPerWeek\n",
       "0  0.301370  0.000000           0.8      0.02174          0.0      0.397959\n",
       "1  0.452055  0.047277           0.8      0.00000          0.0      0.122449\n",
       "2  0.287671  0.137244           0.0      0.00000          0.0      0.397959\n",
       "3  0.000000  0.150212           0.4      0.00000          0.0      0.397959\n",
       "4  0.000000  0.220703           0.8      0.00000          0.0      0.397959"
      ]
     },
     "execution_count": 4,
     "metadata": {},
     "output_type": "execute_result"
    }
   ],
   "source": [
    "# Numerical data\n",
    "\n",
    "numData = trainDataTrue.iloc[:,0:6]\n",
    "numData.columns = ['age', 'fnlwgt', 'educationNum', 'capitalGain', 'capitalLoss', 'hoursPerWeek']\n",
    "numData.head()"
   ]
  },
  {
   "cell_type": "code",
   "execution_count": 24,
   "metadata": {},
   "outputs": [
    {
     "name": "stderr",
     "output_type": "stream",
     "text": [
      "<ipython-input-24-a26300d8957b>:6: SettingWithCopyWarning: \n",
      "A value is trying to be set on a copy of a slice from a DataFrame.\n",
      "Try using .loc[row_indexer,col_indexer] = value instead\n",
      "\n",
      "See the caveats in the documentation: https://pandas.pydata.org/pandas-docs/stable/user_guide/indexing.html#returning-a-view-versus-a-copy\n",
      "  numData['income'] = np.array(income_val)\n"
     ]
    },
    {
     "data": {
      "text/html": [
       "<div>\n",
       "<style scoped>\n",
       "    .dataframe tbody tr th:only-of-type {\n",
       "        vertical-align: middle;\n",
       "    }\n",
       "\n",
       "    .dataframe tbody tr th {\n",
       "        vertical-align: top;\n",
       "    }\n",
       "\n",
       "    .dataframe thead th {\n",
       "        text-align: right;\n",
       "    }\n",
       "</style>\n",
       "<table border=\"1\" class=\"dataframe\">\n",
       "  <thead>\n",
       "    <tr style=\"text-align: right;\">\n",
       "      <th></th>\n",
       "      <th>age</th>\n",
       "      <th>fnlwgt</th>\n",
       "      <th>educationNum</th>\n",
       "      <th>capitalGain</th>\n",
       "      <th>capitalLoss</th>\n",
       "      <th>hoursPerWeek</th>\n",
       "      <th>income</th>\n",
       "      <th>gender</th>\n",
       "    </tr>\n",
       "  </thead>\n",
       "  <tbody>\n",
       "    <tr>\n",
       "      <th>0</th>\n",
       "      <td>0.301370</td>\n",
       "      <td>0.000000</td>\n",
       "      <td>0.8</td>\n",
       "      <td>0.02174</td>\n",
       "      <td>0.0</td>\n",
       "      <td>0.397959</td>\n",
       "      <td>0</td>\n",
       "      <td>0</td>\n",
       "    </tr>\n",
       "    <tr>\n",
       "      <th>1</th>\n",
       "      <td>0.452055</td>\n",
       "      <td>0.047277</td>\n",
       "      <td>0.8</td>\n",
       "      <td>0.00000</td>\n",
       "      <td>0.0</td>\n",
       "      <td>0.122449</td>\n",
       "      <td>0</td>\n",
       "      <td>0</td>\n",
       "    </tr>\n",
       "    <tr>\n",
       "      <th>2</th>\n",
       "      <td>0.287671</td>\n",
       "      <td>0.137244</td>\n",
       "      <td>0.0</td>\n",
       "      <td>0.00000</td>\n",
       "      <td>0.0</td>\n",
       "      <td>0.397959</td>\n",
       "      <td>0</td>\n",
       "      <td>0</td>\n",
       "    </tr>\n",
       "    <tr>\n",
       "      <th>3</th>\n",
       "      <td>0.000000</td>\n",
       "      <td>0.150212</td>\n",
       "      <td>0.4</td>\n",
       "      <td>0.00000</td>\n",
       "      <td>0.0</td>\n",
       "      <td>0.397959</td>\n",
       "      <td>0</td>\n",
       "      <td>0</td>\n",
       "    </tr>\n",
       "    <tr>\n",
       "      <th>4</th>\n",
       "      <td>0.000000</td>\n",
       "      <td>0.220703</td>\n",
       "      <td>0.8</td>\n",
       "      <td>0.00000</td>\n",
       "      <td>0.0</td>\n",
       "      <td>0.397959</td>\n",
       "      <td>1</td>\n",
       "      <td>1</td>\n",
       "    </tr>\n",
       "  </tbody>\n",
       "</table>\n",
       "</div>"
      ],
      "text/plain": [
       "        age    fnlwgt  educationNum  capitalGain  capitalLoss  hoursPerWeek  \\\n",
       "0  0.301370  0.000000           0.8      0.02174          0.0      0.397959   \n",
       "1  0.452055  0.047277           0.8      0.00000          0.0      0.122449   \n",
       "2  0.287671  0.137244           0.0      0.00000          0.0      0.397959   \n",
       "3  0.000000  0.150212           0.4      0.00000          0.0      0.397959   \n",
       "4  0.000000  0.220703           0.8      0.00000          0.0      0.397959   \n",
       "\n",
       "   income  gender  \n",
       "0       0       0  \n",
       "1       0       0  \n",
       "2       0       0  \n",
       "3       0       0  \n",
       "4       1       1  "
      ]
     },
     "execution_count": 24,
     "metadata": {},
     "output_type": "execute_result"
    }
   ],
   "source": [
    "# Income = 1 if >=50k, 0 if <50k\n",
    "income_val = []\n",
    "for idx, row in trainDataTrue.iterrows():\n",
    "    income = 0 if row[104] == 1.0 else 1\n",
    "    income_val.append(income)\n",
    "numData['income'] = np.array(income_val)\n",
    "numData.head()"
   ]
  },
  {
   "cell_type": "code",
   "execution_count": 21,
   "metadata": {},
   "outputs": [
    {
     "name": "stderr",
     "output_type": "stream",
     "text": [
      "<ipython-input-21-1a2b2d9c5f83>:5: SettingWithCopyWarning: \n",
      "A value is trying to be set on a copy of a slice from a DataFrame.\n",
      "Try using .loc[row_indexer,col_indexer] = value instead\n",
      "\n",
      "See the caveats in the documentation: https://pandas.pydata.org/pandas-docs/stable/user_guide/indexing.html#returning-a-view-versus-a-copy\n",
      "  numData['gender'] = np.array(gender_val)\n"
     ]
    },
    {
     "data": {
      "text/html": [
       "<div>\n",
       "<style scoped>\n",
       "    .dataframe tbody tr th:only-of-type {\n",
       "        vertical-align: middle;\n",
       "    }\n",
       "\n",
       "    .dataframe tbody tr th {\n",
       "        vertical-align: top;\n",
       "    }\n",
       "\n",
       "    .dataframe thead th {\n",
       "        text-align: right;\n",
       "    }\n",
       "</style>\n",
       "<table border=\"1\" class=\"dataframe\">\n",
       "  <thead>\n",
       "    <tr style=\"text-align: right;\">\n",
       "      <th></th>\n",
       "      <th>age</th>\n",
       "      <th>fnlwgt</th>\n",
       "      <th>educationNum</th>\n",
       "      <th>capitalGain</th>\n",
       "      <th>capitalLoss</th>\n",
       "      <th>hoursPerWeek</th>\n",
       "      <th>income</th>\n",
       "      <th>gender</th>\n",
       "    </tr>\n",
       "  </thead>\n",
       "  <tbody>\n",
       "    <tr>\n",
       "      <th>0</th>\n",
       "      <td>0.301370</td>\n",
       "      <td>0.000000</td>\n",
       "      <td>0.8</td>\n",
       "      <td>0.02174</td>\n",
       "      <td>0.0</td>\n",
       "      <td>0.397959</td>\n",
       "      <td>0</td>\n",
       "      <td>0</td>\n",
       "    </tr>\n",
       "    <tr>\n",
       "      <th>1</th>\n",
       "      <td>0.452055</td>\n",
       "      <td>0.047277</td>\n",
       "      <td>0.8</td>\n",
       "      <td>0.00000</td>\n",
       "      <td>0.0</td>\n",
       "      <td>0.122449</td>\n",
       "      <td>0</td>\n",
       "      <td>0</td>\n",
       "    </tr>\n",
       "    <tr>\n",
       "      <th>2</th>\n",
       "      <td>0.287671</td>\n",
       "      <td>0.137244</td>\n",
       "      <td>0.0</td>\n",
       "      <td>0.00000</td>\n",
       "      <td>0.0</td>\n",
       "      <td>0.397959</td>\n",
       "      <td>0</td>\n",
       "      <td>0</td>\n",
       "    </tr>\n",
       "    <tr>\n",
       "      <th>3</th>\n",
       "      <td>0.000000</td>\n",
       "      <td>0.150212</td>\n",
       "      <td>0.4</td>\n",
       "      <td>0.00000</td>\n",
       "      <td>0.0</td>\n",
       "      <td>0.397959</td>\n",
       "      <td>0</td>\n",
       "      <td>0</td>\n",
       "    </tr>\n",
       "    <tr>\n",
       "      <th>4</th>\n",
       "      <td>0.000000</td>\n",
       "      <td>0.220703</td>\n",
       "      <td>0.8</td>\n",
       "      <td>0.00000</td>\n",
       "      <td>0.0</td>\n",
       "      <td>0.397959</td>\n",
       "      <td>1</td>\n",
       "      <td>1</td>\n",
       "    </tr>\n",
       "  </tbody>\n",
       "</table>\n",
       "</div>"
      ],
      "text/plain": [
       "        age    fnlwgt  educationNum  capitalGain  capitalLoss  hoursPerWeek  \\\n",
       "0  0.301370  0.000000           0.8      0.02174          0.0      0.397959   \n",
       "1  0.452055  0.047277           0.8      0.00000          0.0      0.122449   \n",
       "2  0.287671  0.137244           0.0      0.00000          0.0      0.397959   \n",
       "3  0.000000  0.150212           0.4      0.00000          0.0      0.397959   \n",
       "4  0.000000  0.220703           0.8      0.00000          0.0      0.397959   \n",
       "\n",
       "   income  gender  \n",
       "0       0       0  \n",
       "1       0       0  \n",
       "2       0       0  \n",
       "3       0       0  \n",
       "4       1       1  "
      ]
     },
     "execution_count": 21,
     "metadata": {},
     "output_type": "execute_result"
    }
   ],
   "source": [
    "gender_val = []\n",
    "for idx, row in trainDataTrue.iterrows():\n",
    "    gender = 1 if row[61] == 1.0 else 0\n",
    "    gender_val.append(gender)\n",
    "numData['gender'] = np.array(gender_val)\n",
    "numData.head()"
   ]
  },
  {
   "cell_type": "code",
   "execution_count": 22,
   "metadata": {},
   "outputs": [
    {
     "data": {
      "text/html": [
       "<div>\n",
       "<style scoped>\n",
       "    .dataframe tbody tr th:only-of-type {\n",
       "        vertical-align: middle;\n",
       "    }\n",
       "\n",
       "    .dataframe tbody tr th {\n",
       "        vertical-align: top;\n",
       "    }\n",
       "\n",
       "    .dataframe thead th {\n",
       "        text-align: right;\n",
       "    }\n",
       "</style>\n",
       "<table border=\"1\" class=\"dataframe\">\n",
       "  <thead>\n",
       "    <tr style=\"text-align: right;\">\n",
       "      <th></th>\n",
       "      <th>age</th>\n",
       "      <th>fnlwgt</th>\n",
       "      <th>educationNum</th>\n",
       "      <th>capitalGain</th>\n",
       "      <th>capitalLoss</th>\n",
       "      <th>hoursPerWeek</th>\n",
       "      <th>income</th>\n",
       "      <th>gender</th>\n",
       "    </tr>\n",
       "  </thead>\n",
       "  <tbody>\n",
       "    <tr>\n",
       "      <th>age</th>\n",
       "      <td>0.036657</td>\n",
       "      <td>-0.000879</td>\n",
       "      <td>0.000878</td>\n",
       "      <td>0.000857</td>\n",
       "      <td>0.000884</td>\n",
       "      <td>0.001866</td>\n",
       "      <td>0.014724</td>\n",
       "      <td>-0.005981</td>\n",
       "    </tr>\n",
       "    <tr>\n",
       "      <th>fnlwgt</th>\n",
       "      <td>-0.000879</td>\n",
       "      <td>0.005908</td>\n",
       "      <td>-0.000569</td>\n",
       "      <td>-0.000012</td>\n",
       "      <td>-0.000067</td>\n",
       "      <td>-0.000148</td>\n",
       "      <td>-0.000175</td>\n",
       "      <td>-0.000707</td>\n",
       "    </tr>\n",
       "    <tr>\n",
       "      <th>educationNum</th>\n",
       "      <td>0.000878</td>\n",
       "      <td>-0.000569</td>\n",
       "      <td>0.059182</td>\n",
       "      <td>0.001118</td>\n",
       "      <td>0.000912</td>\n",
       "      <td>0.001935</td>\n",
       "      <td>0.019828</td>\n",
       "      <td>0.000945</td>\n",
       "    </tr>\n",
       "    <tr>\n",
       "      <th>capitalGain</th>\n",
       "      <td>0.000857</td>\n",
       "      <td>-0.000012</td>\n",
       "      <td>0.001118</td>\n",
       "      <td>0.004968</td>\n",
       "      <td>-0.000180</td>\n",
       "      <td>0.000458</td>\n",
       "      <td>0.005756</td>\n",
       "      <td>-0.001385</td>\n",
       "    </tr>\n",
       "    <tr>\n",
       "      <th>capitalLoss</th>\n",
       "      <td>0.000884</td>\n",
       "      <td>-0.000067</td>\n",
       "      <td>0.000912</td>\n",
       "      <td>-0.000180</td>\n",
       "      <td>0.007789</td>\n",
       "      <td>0.000476</td>\n",
       "      <td>0.005084</td>\n",
       "      <td>-0.001641</td>\n",
       "    </tr>\n",
       "    <tr>\n",
       "      <th>hoursPerWeek</th>\n",
       "      <td>0.001866</td>\n",
       "      <td>-0.000148</td>\n",
       "      <td>0.001935</td>\n",
       "      <td>0.000458</td>\n",
       "      <td>0.000476</td>\n",
       "      <td>0.028419</td>\n",
       "      <td>0.009862</td>\n",
       "      <td>-0.011078</td>\n",
       "    </tr>\n",
       "    <tr>\n",
       "      <th>income</th>\n",
       "      <td>0.014724</td>\n",
       "      <td>-0.000175</td>\n",
       "      <td>0.019828</td>\n",
       "      <td>0.005756</td>\n",
       "      <td>0.005084</td>\n",
       "      <td>0.009862</td>\n",
       "      <td>0.219061</td>\n",
       "      <td>-0.035403</td>\n",
       "    </tr>\n",
       "    <tr>\n",
       "      <th>gender</th>\n",
       "      <td>-0.005981</td>\n",
       "      <td>-0.000707</td>\n",
       "      <td>0.000945</td>\n",
       "      <td>-0.001385</td>\n",
       "      <td>-0.001641</td>\n",
       "      <td>-0.011078</td>\n",
       "      <td>-0.035403</td>\n",
       "      <td>0.205865</td>\n",
       "    </tr>\n",
       "  </tbody>\n",
       "</table>\n",
       "</div>"
      ],
      "text/plain": [
       "                   age    fnlwgt  educationNum  capitalGain  capitalLoss  \\\n",
       "age           0.036657 -0.000879      0.000878     0.000857     0.000884   \n",
       "fnlwgt       -0.000879  0.005908     -0.000569    -0.000012    -0.000067   \n",
       "educationNum  0.000878 -0.000569      0.059182     0.001118     0.000912   \n",
       "capitalGain   0.000857 -0.000012      0.001118     0.004968    -0.000180   \n",
       "capitalLoss   0.000884 -0.000067      0.000912    -0.000180     0.007789   \n",
       "hoursPerWeek  0.001866 -0.000148      0.001935     0.000458     0.000476   \n",
       "income        0.014724 -0.000175      0.019828     0.005756     0.005084   \n",
       "gender       -0.005981 -0.000707      0.000945    -0.001385    -0.001641   \n",
       "\n",
       "              hoursPerWeek    income    gender  \n",
       "age               0.001866  0.014724 -0.005981  \n",
       "fnlwgt           -0.000148 -0.000175 -0.000707  \n",
       "educationNum      0.001935  0.019828  0.000945  \n",
       "capitalGain       0.000458  0.005756 -0.001385  \n",
       "capitalLoss       0.000476  0.005084 -0.001641  \n",
       "hoursPerWeek      0.028419  0.009862 -0.011078  \n",
       "income            0.009862  0.219061 -0.035403  \n",
       "gender           -0.011078 -0.035403  0.205865  "
      ]
     },
     "execution_count": 22,
     "metadata": {},
     "output_type": "execute_result"
    }
   ],
   "source": [
    "numData.cov()"
   ]
  },
  {
   "cell_type": "code",
   "execution_count": 23,
   "metadata": {},
   "outputs": [
    {
     "data": {
      "text/html": [
       "<div>\n",
       "<style scoped>\n",
       "    .dataframe tbody tr th:only-of-type {\n",
       "        vertical-align: middle;\n",
       "    }\n",
       "\n",
       "    .dataframe tbody tr th {\n",
       "        vertical-align: top;\n",
       "    }\n",
       "\n",
       "    .dataframe thead th {\n",
       "        text-align: right;\n",
       "    }\n",
       "</style>\n",
       "<table border=\"1\" class=\"dataframe\">\n",
       "  <thead>\n",
       "    <tr style=\"text-align: right;\">\n",
       "      <th></th>\n",
       "      <th>age</th>\n",
       "      <th>fnlwgt</th>\n",
       "      <th>educationNum</th>\n",
       "      <th>capitalGain</th>\n",
       "      <th>capitalLoss</th>\n",
       "      <th>hoursPerWeek</th>\n",
       "      <th>income</th>\n",
       "      <th>gender</th>\n",
       "    </tr>\n",
       "  </thead>\n",
       "  <tbody>\n",
       "    <tr>\n",
       "      <th>age</th>\n",
       "      <td>1.000000</td>\n",
       "      <td>-0.059707</td>\n",
       "      <td>0.018850</td>\n",
       "      <td>0.063523</td>\n",
       "      <td>0.052327</td>\n",
       "      <td>0.057820</td>\n",
       "      <td>0.164314</td>\n",
       "      <td>-0.068846</td>\n",
       "    </tr>\n",
       "    <tr>\n",
       "      <th>fnlwgt</th>\n",
       "      <td>-0.059707</td>\n",
       "      <td>1.000000</td>\n",
       "      <td>-0.030402</td>\n",
       "      <td>-0.002291</td>\n",
       "      <td>-0.009834</td>\n",
       "      <td>-0.011427</td>\n",
       "      <td>-0.004851</td>\n",
       "      <td>-0.020272</td>\n",
       "    </tr>\n",
       "    <tr>\n",
       "      <th>educationNum</th>\n",
       "      <td>0.018850</td>\n",
       "      <td>-0.030402</td>\n",
       "      <td>1.000000</td>\n",
       "      <td>0.065201</td>\n",
       "      <td>0.042465</td>\n",
       "      <td>0.047185</td>\n",
       "      <td>0.174143</td>\n",
       "      <td>0.008564</td>\n",
       "    </tr>\n",
       "    <tr>\n",
       "      <th>capitalGain</th>\n",
       "      <td>0.063523</td>\n",
       "      <td>-0.002291</td>\n",
       "      <td>0.065201</td>\n",
       "      <td>1.000000</td>\n",
       "      <td>-0.028940</td>\n",
       "      <td>0.038546</td>\n",
       "      <td>0.174470</td>\n",
       "      <td>-0.043308</td>\n",
       "    </tr>\n",
       "    <tr>\n",
       "      <th>capitalLoss</th>\n",
       "      <td>0.052327</td>\n",
       "      <td>-0.009834</td>\n",
       "      <td>0.042465</td>\n",
       "      <td>-0.028940</td>\n",
       "      <td>1.000000</td>\n",
       "      <td>0.031978</td>\n",
       "      <td>0.123082</td>\n",
       "      <td>-0.040985</td>\n",
       "    </tr>\n",
       "    <tr>\n",
       "      <th>hoursPerWeek</th>\n",
       "      <td>0.057820</td>\n",
       "      <td>-0.011427</td>\n",
       "      <td>0.047185</td>\n",
       "      <td>0.038546</td>\n",
       "      <td>0.031978</td>\n",
       "      <td>1.000000</td>\n",
       "      <td>0.124987</td>\n",
       "      <td>-0.144835</td>\n",
       "    </tr>\n",
       "    <tr>\n",
       "      <th>income</th>\n",
       "      <td>0.164314</td>\n",
       "      <td>-0.004851</td>\n",
       "      <td>0.174143</td>\n",
       "      <td>0.174470</td>\n",
       "      <td>0.123082</td>\n",
       "      <td>0.124987</td>\n",
       "      <td>1.000000</td>\n",
       "      <td>-0.166711</td>\n",
       "    </tr>\n",
       "    <tr>\n",
       "      <th>gender</th>\n",
       "      <td>-0.068846</td>\n",
       "      <td>-0.020272</td>\n",
       "      <td>0.008564</td>\n",
       "      <td>-0.043308</td>\n",
       "      <td>-0.040985</td>\n",
       "      <td>-0.144835</td>\n",
       "      <td>-0.166711</td>\n",
       "      <td>1.000000</td>\n",
       "    </tr>\n",
       "  </tbody>\n",
       "</table>\n",
       "</div>"
      ],
      "text/plain": [
       "                   age    fnlwgt  educationNum  capitalGain  capitalLoss  \\\n",
       "age           1.000000 -0.059707      0.018850     0.063523     0.052327   \n",
       "fnlwgt       -0.059707  1.000000     -0.030402    -0.002291    -0.009834   \n",
       "educationNum  0.018850 -0.030402      1.000000     0.065201     0.042465   \n",
       "capitalGain   0.063523 -0.002291      0.065201     1.000000    -0.028940   \n",
       "capitalLoss   0.052327 -0.009834      0.042465    -0.028940     1.000000   \n",
       "hoursPerWeek  0.057820 -0.011427      0.047185     0.038546     0.031978   \n",
       "income        0.164314 -0.004851      0.174143     0.174470     0.123082   \n",
       "gender       -0.068846 -0.020272      0.008564    -0.043308    -0.040985   \n",
       "\n",
       "              hoursPerWeek    income    gender  \n",
       "age               0.057820  0.164314 -0.068846  \n",
       "fnlwgt           -0.011427 -0.004851 -0.020272  \n",
       "educationNum      0.047185  0.174143  0.008564  \n",
       "capitalGain       0.038546  0.174470 -0.043308  \n",
       "capitalLoss       0.031978  0.123082 -0.040985  \n",
       "hoursPerWeek      1.000000  0.124987 -0.144835  \n",
       "income            0.124987  1.000000 -0.166711  \n",
       "gender           -0.144835 -0.166711  1.000000  "
      ]
     },
     "execution_count": 23,
     "metadata": {},
     "output_type": "execute_result"
    }
   ],
   "source": [
    "numData.corr()"
   ]
  },
  {
   "cell_type": "markdown",
   "metadata": {},
   "source": [
    "#### 2. Categorical variables Analysis:"
   ]
  },
  {
   "cell_type": "code",
   "execution_count": 28,
   "metadata": {},
   "outputs": [
    {
     "name": "stderr",
     "output_type": "stream",
     "text": [
      "<ipython-input-28-48724ba78968>:5: SettingWithCopyWarning: \n",
      "A value is trying to be set on a copy of a slice from a DataFrame.\n",
      "Try using .loc[row_indexer,col_indexer] = value instead\n",
      "\n",
      "See the caveats in the documentation: https://pandas.pydata.org/pandas-docs/stable/user_guide/indexing.html#returning-a-view-versus-a-copy\n",
      "  numData['workClass'] = np.array(workclass_val)\n"
     ]
    }
   ],
   "source": [
    "workclass_val = []\n",
    "for idx, row in trainDataTrue.iterrows():\n",
    "    workClassOneHot = row[6:13].to_numpy()\n",
    "    workclass_val.append(np.argmax(workClassOneHot))\n",
    "numData['workClass'] = np.array(workclass_val)"
   ]
  },
  {
   "cell_type": "code",
   "execution_count": 43,
   "metadata": {},
   "outputs": [
    {
     "data": {
      "text/plain": [
       "<matplotlib.axes._subplots.AxesSubplot at 0x7f86a48eaa30>"
      ]
     },
     "execution_count": 43,
     "metadata": {},
     "output_type": "execute_result"
    },
    {
     "data": {
      "image/png": "[encoded data removed]",
      "text/plain": [
       "<Figure size 432x288 with 1 Axes>"
      ]
     },
     "metadata": {
      "needs_background": "light"
     },
     "output_type": "display_data"
    }
   ],
   "source": [
    "numData['workClass'].hist()"
   ]
  },
  {
   "cell_type": "code",
   "execution_count": 44,
   "metadata": {},
   "outputs": [
    {
     "data": {
      "text/plain": [
       "2    20072\n",
       "0     3860\n",
       "4     2239\n",
       "1     1854\n",
       "5     1166\n",
       "3      957\n",
       "6       14\n",
       "Name: workClass, dtype: int64"
      ]
     },
     "execution_count": 44,
     "metadata": {},
     "output_type": "execute_result"
    }
   ],
   "source": [
    "numData['workClass'].value_counts()"
   ]
  },
  {
   "cell_type": "code",
   "execution_count": 31,
   "metadata": {},
   "outputs": [
    {
     "name": "stderr",
     "output_type": "stream",
     "text": [
      "<ipython-input-31-97c9934ae48f>:5: SettingWithCopyWarning: \n",
      "A value is trying to be set on a copy of a slice from a DataFrame.\n",
      "Try using .loc[row_indexer,col_indexer] = value instead\n",
      "\n",
      "See the caveats in the documentation: https://pandas.pydata.org/pandas-docs/stable/user_guide/indexing.html#returning-a-view-versus-a-copy\n",
      "  numData['education'] = np.array(education_val)\n"
     ]
    }
   ],
   "source": [
    "education_val = []\n",
    "for idx, row in trainDataTrue.iterrows():\n",
    "    educationOneHot = row[13:29].to_numpy()\n",
    "    education_val.append(np.argmax(educationOneHot))\n",
    "numData['education'] = np.array(education_val)"
   ]
  },
  {
   "cell_type": "code",
   "execution_count": 46,
   "metadata": {},
   "outputs": [
    {
     "data": {
      "text/plain": [
       "<matplotlib.axes._subplots.AxesSubplot at 0x7f86a3df6820>"
      ]
     },
     "execution_count": 46,
     "metadata": {},
     "output_type": "execute_result"
    },
    {
     "data": {
      "image/png": "[encoded data removed]",
      "text/plain": [
       "<Figure size 432x288 with 1 Axes>"
      ]
     },
     "metadata": {
      "needs_background": "light"
     },
     "output_type": "display_data"
    }
   ],
   "source": [
    "numData['education'].hist()"
   ]
  },
  {
   "cell_type": "code",
   "execution_count": 32,
   "metadata": {},
   "outputs": [
    {
     "name": "stderr",
     "output_type": "stream",
     "text": [
      "<ipython-input-32-9bd326fc51f9>:5: SettingWithCopyWarning: \n",
      "A value is trying to be set on a copy of a slice from a DataFrame.\n",
      "Try using .loc[row_indexer,col_indexer] = value instead\n",
      "\n",
      "See the caveats in the documentation: https://pandas.pydata.org/pandas-docs/stable/user_guide/indexing.html#returning-a-view-versus-a-copy\n",
      "  numData['maritalStatus'] = np.array(marital_status_val)\n"
     ]
    }
   ],
   "source": [
    "marital_status_val = []\n",
    "for idx, row in trainDataTrue.iterrows():\n",
    "    maritalStatusOneHot = row[29:36].to_numpy()\n",
    "    marital_status_val.append(np.argmax(maritalStatusOneHot))\n",
    "numData['maritalStatus'] = np.array(marital_status_val)"
   ]
  },
  {
   "cell_type": "code",
   "execution_count": 48,
   "metadata": {},
   "outputs": [
    {
     "data": {
      "text/plain": [
       "<matplotlib.axes._subplots.AxesSubplot at 0x7f86a4a18460>"
      ]
     },
     "execution_count": 48,
     "metadata": {},
     "output_type": "execute_result"
    },
    {
     "data": {
      "image/png": "[encoded data removed]",
      "text/plain": [
       "<Figure size 432x288 with 1 Axes>"
      ]
     },
     "metadata": {
      "needs_background": "light"
     },
     "output_type": "display_data"
    }
   ],
   "source": [
    "numData['maritalStatus'].hist()"
   ]
  },
  {
   "cell_type": "code",
   "execution_count": 50,
   "metadata": {},
   "outputs": [
    {
     "data": {
      "text/plain": [
       "2    12640\n",
       "4     8800\n",
       "0     6784\n",
       "5      841\n",
       "6      745\n",
       "3      333\n",
       "1       19\n",
       "Name: maritalStatus, dtype: int64"
      ]
     },
     "execution_count": 50,
     "metadata": {},
     "output_type": "execute_result"
    }
   ],
   "source": [
    "numData['maritalStatus'].value_counts()"
   ]
  },
  {
   "cell_type": "code",
   "execution_count": 33,
   "metadata": {},
   "outputs": [
    {
     "name": "stderr",
     "output_type": "stream",
     "text": [
      "<ipython-input-33-02515ec62635>:5: SettingWithCopyWarning: \n",
      "A value is trying to be set on a copy of a slice from a DataFrame.\n",
      "Try using .loc[row_indexer,col_indexer] = value instead\n",
      "\n",
      "See the caveats in the documentation: https://pandas.pydata.org/pandas-docs/stable/user_guide/indexing.html#returning-a-view-versus-a-copy\n",
      "  numData['occupation'] = np.array(occupation_val)\n"
     ]
    }
   ],
   "source": [
    "occupation_val = []\n",
    "for idx, row in trainDataTrue.iterrows():\n",
    "    occupationOneHot = row[36:49].to_numpy()\n",
    "    occupation_val.append(np.argmax(occupationOneHot))\n",
    "numData['occupation'] = np.array(occupation_val)"
   ]
  },
  {
   "cell_type": "code",
   "execution_count": 49,
   "metadata": {},
   "outputs": [
    {
     "data": {
      "text/plain": [
       "<matplotlib.axes._subplots.AxesSubplot at 0x7f86a3fd53d0>"
      ]
     },
     "execution_count": 49,
     "metadata": {},
     "output_type": "execute_result"
    },
    {
     "data": {
      "image/png": "[encoded data removed]",
      "text/plain": [
       "<Figure size 432x288 with 1 Axes>"
      ]
     },
     "metadata": {
      "needs_background": "light"
     },
     "output_type": "display_data"
    }
   ],
   "source": [
    "numData['occupation'].hist()"
   ]
  },
  {
   "cell_type": "code",
   "execution_count": 34,
   "metadata": {},
   "outputs": [
    {
     "name": "stderr",
     "output_type": "stream",
     "text": [
      "<ipython-input-34-0e33ecd1b805>:5: SettingWithCopyWarning: \n",
      "A value is trying to be set on a copy of a slice from a DataFrame.\n",
      "Try using .loc[row_indexer,col_indexer] = value instead\n",
      "\n",
      "See the caveats in the documentation: https://pandas.pydata.org/pandas-docs/stable/user_guide/indexing.html#returning-a-view-versus-a-copy\n",
      "  numData['race'] = np.array(race_val)\n"
     ]
    }
   ],
   "source": [
    "race_val = []\n",
    "for idx, row in trainDataTrue.iterrows():\n",
    "    raceOneHot = row[56:61].to_numpy()\n",
    "    race_val.append(np.argmax(raceOneHot))\n",
    "numData['race'] = np.array(race_val)"
   ]
  },
  {
   "cell_type": "code",
   "execution_count": 51,
   "metadata": {},
   "outputs": [
    {
     "data": {
      "text/plain": [
       "<matplotlib.axes._subplots.AxesSubplot at 0x7f86a4aabdc0>"
      ]
     },
     "execution_count": 51,
     "metadata": {},
     "output_type": "execute_result"
    },
    {
     "data": {
      "image/png": "[encoded data removed]",
      "text/plain": [
       "<Figure size 432x288 with 1 Axes>"
      ]
     },
     "metadata": {
      "needs_background": "light"
     },
     "output_type": "display_data"
    }
   ],
   "source": [
    "numData['race'].hist()"
   ]
  },
  {
   "cell_type": "code",
   "execution_count": 35,
   "metadata": {},
   "outputs": [
    {
     "data": {
      "text/html": [
       "<div>\n",
       "<style scoped>\n",
       "    .dataframe tbody tr th:only-of-type {\n",
       "        vertical-align: middle;\n",
       "    }\n",
       "\n",
       "    .dataframe tbody tr th {\n",
       "        vertical-align: top;\n",
       "    }\n",
       "\n",
       "    .dataframe thead th {\n",
       "        text-align: right;\n",
       "    }\n",
       "</style>\n",
       "<table border=\"1\" class=\"dataframe\">\n",
       "  <thead>\n",
       "    <tr style=\"text-align: right;\">\n",
       "      <th></th>\n",
       "      <th>age</th>\n",
       "      <th>fnlwgt</th>\n",
       "      <th>educationNum</th>\n",
       "      <th>capitalGain</th>\n",
       "      <th>capitalLoss</th>\n",
       "      <th>hoursPerWeek</th>\n",
       "      <th>income</th>\n",
       "      <th>gender</th>\n",
       "      <th>workClass</th>\n",
       "      <th>education</th>\n",
       "      <th>maritalStatus</th>\n",
       "      <th>occupation</th>\n",
       "      <th>race</th>\n",
       "    </tr>\n",
       "  </thead>\n",
       "  <tbody>\n",
       "    <tr>\n",
       "      <th>0</th>\n",
       "      <td>0.301370</td>\n",
       "      <td>0.000000</td>\n",
       "      <td>0.8</td>\n",
       "      <td>0.02174</td>\n",
       "      <td>0.0</td>\n",
       "      <td>0.397959</td>\n",
       "      <td>0</td>\n",
       "      <td>0</td>\n",
       "      <td>5</td>\n",
       "      <td>9</td>\n",
       "      <td>0</td>\n",
       "      <td>0</td>\n",
       "      <td>0</td>\n",
       "    </tr>\n",
       "    <tr>\n",
       "      <th>1</th>\n",
       "      <td>0.452055</td>\n",
       "      <td>0.047277</td>\n",
       "      <td>0.8</td>\n",
       "      <td>0.00000</td>\n",
       "      <td>0.0</td>\n",
       "      <td>0.122449</td>\n",
       "      <td>0</td>\n",
       "      <td>0</td>\n",
       "      <td>4</td>\n",
       "      <td>9</td>\n",
       "      <td>2</td>\n",
       "      <td>3</td>\n",
       "      <td>4</td>\n",
       "    </tr>\n",
       "    <tr>\n",
       "      <th>2</th>\n",
       "      <td>0.287671</td>\n",
       "      <td>0.137244</td>\n",
       "      <td>0.0</td>\n",
       "      <td>0.00000</td>\n",
       "      <td>0.0</td>\n",
       "      <td>0.397959</td>\n",
       "      <td>0</td>\n",
       "      <td>0</td>\n",
       "      <td>2</td>\n",
       "      <td>11</td>\n",
       "      <td>0</td>\n",
       "      <td>5</td>\n",
       "      <td>4</td>\n",
       "    </tr>\n",
       "    <tr>\n",
       "      <th>3</th>\n",
       "      <td>0.000000</td>\n",
       "      <td>0.150212</td>\n",
       "      <td>0.4</td>\n",
       "      <td>0.00000</td>\n",
       "      <td>0.0</td>\n",
       "      <td>0.397959</td>\n",
       "      <td>0</td>\n",
       "      <td>0</td>\n",
       "      <td>2</td>\n",
       "      <td>1</td>\n",
       "      <td>2</td>\n",
       "      <td>5</td>\n",
       "      <td>2</td>\n",
       "    </tr>\n",
       "    <tr>\n",
       "      <th>4</th>\n",
       "      <td>0.000000</td>\n",
       "      <td>0.220703</td>\n",
       "      <td>0.8</td>\n",
       "      <td>0.00000</td>\n",
       "      <td>0.0</td>\n",
       "      <td>0.397959</td>\n",
       "      <td>1</td>\n",
       "      <td>1</td>\n",
       "      <td>2</td>\n",
       "      <td>9</td>\n",
       "      <td>2</td>\n",
       "      <td>9</td>\n",
       "      <td>2</td>\n",
       "    </tr>\n",
       "  </tbody>\n",
       "</table>\n",
       "</div>"
      ],
      "text/plain": [
       "        age    fnlwgt  educationNum  capitalGain  capitalLoss  hoursPerWeek  \\\n",
       "0  0.301370  0.000000           0.8      0.02174          0.0      0.397959   \n",
       "1  0.452055  0.047277           0.8      0.00000          0.0      0.122449   \n",
       "2  0.287671  0.137244           0.0      0.00000          0.0      0.397959   \n",
       "3  0.000000  0.150212           0.4      0.00000          0.0      0.397959   \n",
       "4  0.000000  0.220703           0.8      0.00000          0.0      0.397959   \n",
       "\n",
       "   income  gender  workClass  education  maritalStatus  occupation  race  \n",
       "0       0       0          5          9              0           0     0  \n",
       "1       0       0          4          9              2           3     4  \n",
       "2       0       0          2         11              0           5     4  \n",
       "3       0       0          2          1              2           5     2  \n",
       "4       1       1          2          9              2           9     2  "
      ]
     },
     "execution_count": 35,
     "metadata": {},
     "output_type": "execute_result"
    }
   ],
   "source": [
    "numData.head()"
   ]
  },
  {
   "cell_type": "markdown",
   "metadata": {},
   "source": [
    "#### 3. Correlation of categorical to numerical features: \n",
    "\n",
    "##### Anova test : \n",
    "\n",
    "The ANOVA test assesses whether the averages of more than two groups are statistically different from each other. This analysis is appropriate for comparing the averages of a numerical variable for more than two categories of a categorical variable. \n",
    "\n",
    "The greater the F score value the higher the correlation will be."
   ]
  },
  {
   "cell_type": "code",
   "execution_count": 25,
   "metadata": {},
   "outputs": [],
   "source": [
    "def anova(df, col):\n",
    "    sum_by_group = df.groupby(col).sum()\n",
    "    count_by_group = df.groupby(col).count()\n",
    "\n",
    "    k = len(sum_by_group)\n",
    "\n",
    "    # between group\n",
    "    ss_b = (sum_by_group**2/count_by_group).sum() - (sum_by_group.sum()**2 / count_by_group.sum())\n",
    "    df_b = k - 1\n",
    "\n",
    "    #     within groups\n",
    "    temp = df.drop(columns = [col])**2\n",
    "    temp[col] = df[col]\n",
    "    squared = temp.groupby(col).sum()\n",
    "    ss_w = squared.sum() - (sum_by_group**2/count_by_group).sum()\n",
    "    df_w = (count_by_group.sum() - k)\n",
    "\n",
    "    ms_b = ss_b / df_b\n",
    "    ms_w = ss_w / df_w\n",
    "    F = ms_b / ms_w\n",
    "    #     pd.options.display.float_format = \"{:,.8f}\".format\n",
    "    return F"
   ]
  },
  {
   "cell_type": "code",
   "execution_count": 26,
   "metadata": {},
   "outputs": [
    {
     "data": {
      "text/plain": [
       "age             143.630300\n",
       "fnlwgt           12.398903\n",
       "educationNum      2.212073\n",
       "capitalGain      56.673257\n",
       "capitalLoss      50.746800\n",
       "hoursPerWeek    646.230691\n",
       "income          862.185094\n",
       "dtype: float64"
      ]
     },
     "execution_count": 26,
     "metadata": {},
     "output_type": "execute_result"
    }
   ],
   "source": [
    "anova(numData, 'gender')"
   ]
  },
  {
   "cell_type": "code",
   "execution_count": 27,
   "metadata": {},
   "outputs": [
    {
     "data": {
      "text/plain": [
       "age             836.885283\n",
       "fnlwgt            0.709681\n",
       "educationNum    943.230273\n",
       "capitalGain     946.885482\n",
       "capitalLoss     463.928854\n",
       "hoursPerWeek    478.628099\n",
       "gender          862.185094\n",
       "dtype: float64"
      ]
     },
     "execution_count": 27,
     "metadata": {},
     "output_type": "execute_result"
    }
   ],
   "source": [
    "anova(numData, 'income')"
   ]
  },
  {
   "cell_type": "code",
   "execution_count": 36,
   "metadata": {},
   "outputs": [
    {
     "data": {
      "text/plain": [
       "age               6.522688\n",
       "fnlwgt           82.920524\n",
       "educationNum     32.496196\n",
       "capitalGain       4.476821\n",
       "capitalLoss       4.339086\n",
       "hoursPerWeek      9.666773\n",
       "income           36.385642\n",
       "gender           82.276893\n",
       "workClass        15.515031\n",
       "education         3.101143\n",
       "maritalStatus    45.258832\n",
       "occupation        3.276097\n",
       "dtype: float64"
      ]
     },
     "execution_count": 36,
     "metadata": {},
     "output_type": "execute_result"
    }
   ],
   "source": [
    "anova(numData, 'race')"
   ]
  },
  {
   "cell_type": "code",
   "execution_count": 37,
   "metadata": {},
   "outputs": [
    {
     "data": {
      "text/plain": [
       "age               61.391108\n",
       "fnlwgt             5.129996\n",
       "educationNum     317.643516\n",
       "capitalGain       29.863970\n",
       "capitalLoss       15.081722\n",
       "hoursPerWeek      67.936399\n",
       "income           207.091713\n",
       "gender           242.823272\n",
       "workClass         44.274906\n",
       "education         31.933966\n",
       "maritalStatus     49.424332\n",
       "race               9.615931\n",
       "dtype: float64"
      ]
     },
     "execution_count": 37,
     "metadata": {},
     "output_type": "execute_result"
    }
   ],
   "source": [
    "anova(numData, 'occupation')"
   ]
  },
  {
   "cell_type": "code",
   "execution_count": 38,
   "metadata": {},
   "outputs": [
    {
     "name": "stderr",
     "output_type": "stream",
     "text": [
      "<ipython-input-38-96d5d99f3a37>:5: SettingWithCopyWarning: \n",
      "A value is trying to be set on a copy of a slice from a DataFrame.\n",
      "Try using .loc[row_indexer,col_indexer] = value instead\n",
      "\n",
      "See the caveats in the documentation: https://pandas.pydata.org/pandas-docs/stable/user_guide/indexing.html#returning-a-view-versus-a-copy\n",
      "  numData['nativeCountry'] = np.array(country_val)\n"
     ]
    }
   ],
   "source": [
    "country_val = []\n",
    "for idx, row in trainDataTrue.iterrows():\n",
    "    countryOneHot = row[63:104].to_numpy()\n",
    "    country_val.append(np.argmax(countryOneHot))\n",
    "numData['nativeCountry'] = np.array(country_val)"
   ]
  },
  {
   "cell_type": "code",
   "execution_count": 47,
   "metadata": {},
   "outputs": [
    {
     "data": {
      "text/plain": [
       "age               4.989207\n",
       "fnlwgt           15.101324\n",
       "educationNum     23.118901\n",
       "capitalGain       0.712096\n",
       "capitalLoss       1.355041\n",
       "hoursPerWeek      1.718672\n",
       "income            5.977837\n",
       "gender            2.833272\n",
       "workClass         2.271788\n",
       "education         9.360163\n",
       "maritalStatus     2.211332\n",
       "occupation        2.198772\n",
       "race             47.491254\n",
       "dtype: float64"
      ]
     },
     "execution_count": 47,
     "metadata": {},
     "output_type": "execute_result"
    }
   ],
   "source": [
    "anova(numData, 'nativeCountry')"
   ]
  },
  {
   "cell_type": "code",
   "execution_count": 41,
   "metadata": {},
   "outputs": [
    {
     "data": {
      "text/plain": [
       "<matplotlib.axes._subplots.AxesSubplot at 0x7f86a3c67a30>"
      ]
     },
     "execution_count": 41,
     "metadata": {},
     "output_type": "execute_result"
    },
    {
     "data": {
      "image/png": "[encoded data removed]",
      "text/plain": [
       "<Figure size 432x288 with 1 Axes>"
      ]
     },
     "metadata": {
      "needs_background": "light"
     },
     "output_type": "display_data"
    }
   ],
   "source": [
    "numData['nativeCountry'].hist()"
   ]
  },
  {
   "cell_type": "code",
   "execution_count": 42,
   "metadata": {},
   "outputs": [
    {
     "data": {
      "text/plain": [
       "38    24798\n",
       "0      2992\n",
       "25      558\n",
       "29      170\n",
       "10      114\n",
       "32       95\n",
       "1        92\n",
       "18       92\n",
       "7        90\n",
       "8        81\n",
       "4        79\n",
       "22       72\n",
       "34       65\n",
       "2        63\n",
       "39       59\n",
       "5        57\n",
       "12       57\n",
       "21       57\n",
       "3        53\n",
       "30       51\n",
       "23       49\n",
       "19       39\n",
       "13       38\n",
       "35       36\n",
       "31       30\n",
       "26       28\n",
       "28       28\n",
       "11       27\n",
       "9        24\n",
       "6        23\n",
       "20       21\n",
       "16       19\n",
       "37       16\n",
       "36       15\n",
       "40       15\n",
       "24       14\n",
       "27       13\n",
       "33       11\n",
       "17       10\n",
       "15       10\n",
       "14        1\n",
       "Name: nativeCountry, dtype: int64"
      ]
     },
     "execution_count": 42,
     "metadata": {},
     "output_type": "execute_result"
    }
   ],
   "source": [
    "numData['nativeCountry'].value_counts()"
   ]
  },
  {
   "cell_type": "code",
   "execution_count": null,
   "metadata": {},
   "outputs": [],
   "source": []
  }
 ],
 "metadata": {
  "kernelspec": {
   "display_name": "Python 3",
   "language": "python",
   "name": "python3"
  },
  "language_info": {
   "codemirror_mode": {
    "name": "ipython",
    "version": 3
   },
   "file_extension": ".py",
   "mimetype": "text/x-python",
   "name": "python",
   "nbconvert_exporter": "python",
   "pygments_lexer": "ipython3",
   "version": "3.8.3"
  }
 },
 "nbformat": 4,
 "nbformat_minor": 4
}
