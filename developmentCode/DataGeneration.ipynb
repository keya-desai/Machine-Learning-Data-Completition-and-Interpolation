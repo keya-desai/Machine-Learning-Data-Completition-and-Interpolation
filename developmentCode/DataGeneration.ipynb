{
 "cells": [
  {
   "cell_type": "code",
   "execution_count": 1,
   "metadata": {},
   "outputs": [],
   "source": [
    "import numpy as np\n",
    "import pandas as pd"
   ]
  },
  {
   "cell_type": "code",
   "execution_count": 3,
   "metadata": {},
   "outputs": [],
   "source": [
    "X_train = np.load('Data/Train/X.npy')\n",
    "X_prime_train = np.load('Data/Train/X_prime.npy')\n",
    "feature_info_train = np.load('Data/Train/feature_information.npy')"
   ]
  },
  {
   "cell_type": "code",
   "execution_count": 5,
   "metadata": {},
   "outputs": [],
   "source": [
    "# trainDataTrue = pd.DataFrame(data=X_train)\n",
    "trainData = pd.DataFrame(data=X_prime_train)"
   ]
  },
  {
   "cell_type": "code",
   "execution_count": 8,
   "metadata": {},
   "outputs": [
    {
     "name": "stdout",
     "output_type": "stream",
     "text": [
      "Train shape: (30162, 106)\n",
      "Test shape: (15060, 106)\n"
     ]
    }
   ],
   "source": [
    "print(\"Train shape:\",X_train.shape)"
   ]
  },
  {
   "cell_type": "code",
   "execution_count": 9,
   "metadata": {},
   "outputs": [],
   "source": [
    "isMissingTrain = pd.DataFrame(feature_info_train)"
   ]
  },
  {
   "cell_type": "code",
   "execution_count": 10,
   "metadata": {},
   "outputs": [],
   "source": [
    "trainData = trainData.where(isMissingTrain > 0)"
   ]
  },
  {
   "cell_type": "code",
   "execution_count": 11,
   "metadata": {},
   "outputs": [
    {
     "name": "stdout",
     "output_type": "stream",
     "text": [
      "[[6, 7, 8, 9, 10, 11, 12], [13, 14, 15, 16, 17, 18, 19, 20, 21, 22, 23, 24, 25, 26, 27, 28], [29, 30, 31, 32, 33, 34, 35], [36, 37, 38, 39, 40, 41, 42, 43, 44, 45, 46, 47, 48, 49], [50, 51, 52, 53, 54, 55], [56, 57, 58, 59, 60], [61, 62], [63, 64, 65, 66, 67, 68, 69, 70, 71, 72, 73, 74, 75, 76, 77, 78, 79, 80, 81, 82, 83, 84, 85, 86, 87, 88, 89, 90, 91, 92, 93, 94, 95, 96, 97, 98, 99, 100, 101, 102, 103], [104, 105]]\n"
     ]
    }
   ],
   "source": [
    "categoricalFeatures = [[i for i in range(6,13)],\n",
    "                 [i for i in range(13,29)],\n",
    "                 [i for i in range(29,36)],\n",
    "                 [i for i in range(36,50)],\n",
    "                 [i for i in range(50,56)],\n",
    "                 [i for i in range(56,61)],\n",
    "                 [i for i in range(61,63)],\n",
    "                 [i for i in range(63,104)],\n",
    "                 [i for i in range(104,106)]]\n",
    "                 \n",
    "print(categoricalFeatures)"
   ]
  },
  {
   "cell_type": "code",
   "execution_count": 13,
   "metadata": {},
   "outputs": [],
   "source": [
    "isCategorical = [i for _l in categoricalFeatures for i in _l]\n",
    "        \n",
    "startIndex = [l[0] for l in categoricalFeatures]\n",
    "endIndex = [l[-1] for l in categoricalFeatures]"
   ]
  },
  {
   "cell_type": "markdown",
   "metadata": {},
   "source": [
    "#### Method 1: Using mean/mode of individual features"
   ]
  },
  {
   "cell_type": "code",
   "execution_count": 25,
   "metadata": {},
   "outputs": [],
   "source": [
    "def calculateSampleAverage(trainData, startIndex, endIndex, isCategorical):\n",
    "    \n",
    "    numExamples, features = trainData.shape[0], trainData.shape[1]\n",
    "    # Dictionary to store mean/class prob of features\n",
    "    meanValues = {}\n",
    "    varValues = {}\n",
    "    classProb = {}\n",
    "\n",
    "    for col in range(features):\n",
    "        # Categorical feature \n",
    "        if col in startIndex:\n",
    "            start = col\n",
    "            i = startIndex.index(col)\n",
    "            end = endIndex[i]\n",
    "            df = trainData.iloc[:,start:end+1]\n",
    "            df = df.dropna()\n",
    "            # Determine mode class\n",
    "            colProb = np.array([df[c].sum()/len(df) for c in df.columns])\n",
    "            for i in range(start, end+1):\n",
    "                classProb[i] = colProb[start-i]\n",
    "\n",
    "        elif col not in isCategorical:\n",
    "            # Mean of numerical feature\n",
    "            mean = trainData[col].mean()\n",
    "            var = trainData[col].var()\n",
    "            meanValues[col] = mean\n",
    "            varValues[col] = var\n",
    "        else:\n",
    "            continue\n",
    "    return meanValues, varValues, classProb"
   ]
  },
  {
   "cell_type": "code",
   "execution_count": 26,
   "metadata": {},
   "outputs": [],
   "source": [
    "meanValues, varValues, classProb = calculateSampleAverage(trainData, startIndex, endIndex, isCategorical)"
   ]
  },
  {
   "cell_type": "code",
   "execution_count": 27,
   "metadata": {},
   "outputs": [
    {
     "data": {
      "text/plain": [
       "{0: 0.2928808122974898,\n",
       " 1: 0.11970850634603727,\n",
       " 2: 0.6076997611736368,\n",
       " 3: 0.010959190489203352,\n",
       " 4: 0.02032728158217498,\n",
       " 5: 0.40752656854314523}"
      ]
     },
     "execution_count": 27,
     "metadata": {},
     "output_type": "execute_result"
    }
   ],
   "source": [
    "meanValues"
   ]
  },
  {
   "cell_type": "code",
   "execution_count": 28,
   "metadata": {},
   "outputs": [
    {
     "data": {
      "text/plain": [
       "{0: 0.03222033140632074,\n",
       " 1: 0.0051374847647040955,\n",
       " 2: 0.028906937548843558,\n",
       " 3: 0.005525735962521754,\n",
       " 4: 0.00860599060722077,\n",
       " 5: 0.01484279928558613}"
      ]
     },
     "execution_count": 28,
     "metadata": {},
     "output_type": "execute_result"
    }
   ],
   "source": [
    "varValues"
   ]
  },
  {
   "cell_type": "code",
   "execution_count": 30,
   "metadata": {},
   "outputs": [],
   "source": [
    "def newData(meanValues, varValues, classProb, startIndex, endIndex):\n",
    "    numData = 1000\n",
    "    new = np.zeros((numData, 106))\n",
    "    for i in range(numData):\n",
    "        for k in range(6):\n",
    "            new[i,k] = np.random.normal(meanValues[k], varValues[k])\n",
    "        for k in range(6,106):\n",
    "            if k in startIndex:\n",
    "                start = k\n",
    "                j = startIndex.index(k)\n",
    "                end = endIndex[j]\n",
    "                prob = []\n",
    "                numClasses = end - start + 1\n",
    "                for idx in range(start, end+1):\n",
    "                    prob.append(classProb[idx])\n",
    "                c = np.random.choice(numClasses, 1, p=prob)\n",
    "                new[i,c+start] = 1.0\n",
    "            else:\n",
    "                continue\n",
    "    return new"
   ]
  },
  {
   "cell_type": "code",
   "execution_count": 31,
   "metadata": {},
   "outputs": [],
   "source": [
    "genData = newData(meanValues, varValues, classProb, startIndex, endIndex)"
   ]
  },
  {
   "cell_type": "code",
   "execution_count": 33,
   "metadata": {},
   "outputs": [],
   "source": [
    "genData = pd.DataFrame(genData)"
   ]
  },
  {
   "cell_type": "code",
   "execution_count": 34,
   "metadata": {},
   "outputs": [],
   "source": [
    "genMeanValues, genVarValues, genclassProb = calculateSampleAverage(genData, startIndex, endIndex, isCategorical)"
   ]
  },
  {
   "cell_type": "code",
   "execution_count": 35,
   "metadata": {},
   "outputs": [
    {
     "data": {
      "text/plain": [
       "{0: 0.2924214111642054,\n",
       " 1: 0.11987308540883072,\n",
       " 2: 0.6077337892767098,\n",
       " 3: 0.010980774840031286,\n",
       " 4: 0.020027922821447233,\n",
       " 5: 0.4064011711731667}"
      ]
     },
     "execution_count": 35,
     "metadata": {},
     "output_type": "execute_result"
    }
   ],
   "source": [
    "genMeanValues"
   ]
  },
  {
   "cell_type": "code",
   "execution_count": 36,
   "metadata": {},
   "outputs": [
    {
     "data": {
      "text/plain": [
       "{0: 0.0010464599828144455,\n",
       " 1: 2.640854148484855e-05,\n",
       " 2: 0.0008682312236189456,\n",
       " 3: 3.2599882487270635e-05,\n",
       " 4: 7.037120497579378e-05,\n",
       " 5: 0.00021805212418640372}"
      ]
     },
     "execution_count": 36,
     "metadata": {},
     "output_type": "execute_result"
    }
   ],
   "source": [
    "genVarValues"
   ]
  },
  {
   "cell_type": "markdown",
   "metadata": {},
   "source": [
    "#### Method 2: Using weights learned from linear regression:\n"
   ]
  },
  {
   "cell_type": "code",
   "execution_count": 37,
   "metadata": {},
   "outputs": [],
   "source": [
    "# Using weights from linear regression\n",
    "w = np.load('Data/weightLinearReg.npy')"
   ]
  },
  {
   "cell_type": "code",
   "execution_count": 38,
   "metadata": {},
   "outputs": [],
   "source": [
    "def newDataWeighted(w, meanValues, varValues, classProb, startIndex, endIndex):\n",
    "    numData = 1000\n",
    "    new = np.zeros((numData, 106))\n",
    "    for i in range(numData):\n",
    "        for k in range(6):\n",
    "            new[i,k] = w[k,k]*np.random.normal(meanValues[k], varValues[k])\n",
    "        for k in range(6,106):\n",
    "            if k in startIndex:\n",
    "                start = k\n",
    "                j = startIndex.index(k)\n",
    "                end = endIndex[j]\n",
    "                prob = []\n",
    "                numClasses = end - start + 1\n",
    "                # Choosing class based on class prob\n",
    "                for idx in range(start, end+1):\n",
    "                    prob.append(classProb[idx])\n",
    "                c = np.random.choice(numClasses, 1, p=prob) + start\n",
    "                new[i,c] = w[c,c]*1.0\n",
    "            else:\n",
    "                continue\n",
    "    return new"
   ]
  },
  {
   "cell_type": "code",
   "execution_count": 39,
   "metadata": {},
   "outputs": [],
   "source": [
    "genDataWeighted = newDataWeighted(w, meanValues, varValues, classProb, startIndex, endIndex)\n",
    "genDataWeighted = pd.DataFrame(genDataWeighted)"
   ]
  },
  {
   "cell_type": "code",
   "execution_count": 41,
   "metadata": {},
   "outputs": [],
   "source": [
    "genWeightedMeanValues,genWeightedVarValues, genWeightedclassProb = calculateSampleAverage(genDataWeighted, startIndex, endIndex, isCategorical)"
   ]
  },
  {
   "cell_type": "code",
   "execution_count": 42,
   "metadata": {},
   "outputs": [
    {
     "data": {
      "text/plain": [
       "{0: 0.2916991727968813,\n",
       " 1: 0.11994495657078844,\n",
       " 2: 0.6093319375609193,\n",
       " 3: 0.010553311447090522,\n",
       " 4: 0.020650313658725473,\n",
       " 5: 0.40714379652824506}"
      ]
     },
     "execution_count": 42,
     "metadata": {},
     "output_type": "execute_result"
    }
   ],
   "source": [
    "genWeightedMeanValues"
   ]
  },
  {
   "cell_type": "code",
   "execution_count": 43,
   "metadata": {},
   "outputs": [
    {
     "data": {
      "text/plain": [
       "{0: 0.0010260472269033657,\n",
       " 1: 2.5932446152676047e-05,\n",
       " 2: 0.0008757809077890777,\n",
       " 3: 3.411791418947263e-05,\n",
       " 4: 7.852458286685193e-05,\n",
       " 5: 0.00022476134896211924}"
      ]
     },
     "execution_count": 43,
     "metadata": {},
     "output_type": "execute_result"
    }
   ],
   "source": [
    "genWeightedVarValues"
   ]
  },
  {
   "cell_type": "code",
   "execution_count": null,
   "metadata": {},
   "outputs": [],
   "source": []
  }
 ],
 "metadata": {
  "kernelspec": {
   "display_name": "Python 3",
   "language": "python",
   "name": "python3"
  },
  "language_info": {
   "codemirror_mode": {
    "name": "ipython",
    "version": 3
   },
   "file_extension": ".py",
   "mimetype": "text/x-python",
   "name": "python",
   "nbconvert_exporter": "python",
   "pygments_lexer": "ipython3",
   "version": "3.8.3"
  }
 },
 "nbformat": 4,
 "nbformat_minor": 4
}
